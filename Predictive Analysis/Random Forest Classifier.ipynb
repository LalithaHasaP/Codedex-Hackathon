{
 "cells": [
  {
   "cell_type": "code",
   "execution_count": 19,
   "id": "a7ebb9c7",
   "metadata": {},
   "outputs": [],
   "source": [
    "import pandas as pd\n",
    "from sklearn.model_selection import train_test_split\n",
    "from sklearn.preprocessing import LabelEncoder\n",
    "from sklearn.ensemble import RandomForestClassifier\n",
    "from sklearn.metrics import classification_report, accuracy_score\n",
    "import matplotlib.pyplot as plt\n",
    "import re"
   ]
  },
  {
   "cell_type": "code",
   "execution_count": 31,
   "id": "c6724f11",
   "metadata": {},
   "outputs": [],
   "source": [
    "data = pd.read_csv('Athletes_summer_games.csv')\n",
    "\n",
    "olympics_data = data.drop(columns = ['Unnamed: 0', 'Name', 'Age', 'Team', 'Games', 'Season', 'City', 'Event'])\n",
    "#olympics_data['country'] = olympics_data['Team'].apply(lambda x: re.sub(r'[^a-zA-Z\\s]', '', x))\n",
    "#print(list(olympics_data['Team'].unique()))\n",
    "medal_mapping = {\"Gold\": 3, \"Silver\": 2, \"Bronze\": 1, \"\": 0}\n",
    "olympics_data['Medal'] = olympics_data['Medal'].map(medal_mapping).fillna(0).astype(int)\n"
   ]
  },
  {
   "cell_type": "code",
   "execution_count": 32,
   "id": "e51eff7c",
   "metadata": {},
   "outputs": [],
   "source": [
    "label_encoders = {}\n",
    "for column in ['Sport', 'NOC', 'Sex']:\n",
    "    le = LabelEncoder()\n",
    "    olympics_data[column] = le.fit_transform(olympics_data[column])\n",
    "    label_encoders[column] = le"
   ]
  },
  {
   "cell_type": "code",
   "execution_count": 33,
   "id": "5c95875b",
   "metadata": {},
   "outputs": [],
   "source": [
    "X = olympics_data[['Sport', 'NOC', 'Sex', 'Year']]\n",
    "y = olympics_data['Medal']\n",
    "\n",
    "X_train, X_test, y_train, y_test = train_test_split(X, y, test_size=0.2, random_state=42)"
   ]
  },
  {
   "metadata": {},
   "cell_type": "markdown",
   "source": "# Random Forest\n",
   "id": "2eb89e0793e6d852"
  },
  {
   "cell_type": "code",
   "execution_count": 34,
   "id": "7f6fbc6d",
   "metadata": {},
   "outputs": [
    {
     "name": "stdout",
     "output_type": "stream",
     "text": [
      "              precision    recall  f1-score   support\n",
      "\n",
      "           0       0.91      0.98      0.94     40192\n",
      "           1       0.64      0.33      0.43      2460\n",
      "           2       0.66      0.37      0.47      2383\n",
      "           3       0.65      0.46      0.54      2500\n",
      "\n",
      "    accuracy                           0.89     47535\n",
      "   macro avg       0.72      0.53      0.60     47535\n",
      "weighted avg       0.87      0.89      0.87     47535\n",
      "\n",
      "0.8856211212790576\n"
     ]
    }
   ],
   "source": [
    "model = RandomForestClassifier(n_estimators=100, random_state=42)\n",
    "model.fit(X_train, y_train)\n",
    "\n",
    "y_pred = model.predict(X_test)\n",
    "print(classification_report(y_test, y_pred))\n",
    "print(accuracy_score(y_test, y_pred))"
   ]
  },
  {
   "cell_type": "code",
   "execution_count": 35,
   "id": "22bf3df5",
   "metadata": {},
   "outputs": [
    {
     "data": {
      "image/png": "[encoded data removed]",
      "text/plain": [
       "<Figure size 1000x600 with 1 Axes>"
      ]
     },
     "metadata": {},
     "output_type": "display_data"
    },
    {
     "name": "stdout",
     "output_type": "stream",
     "text": [
      "  Feature  Importance\n",
      "0     NOC    0.345710\n",
      "1    Year    0.337539\n",
      "2   Sport    0.283353\n",
      "3     Sex    0.033397\n"
     ]
    }
   ],
   "source": [
    "feature_importances = model.feature_importances_\n",
    "df_importances = pd.DataFrame({'Feature': X.columns, 'Importance': feature_importances})\n",
    "df_importances = df_importances.sort_values(by='Importance', ascending=False).reset_index(drop=True)\n",
    "\n",
    "# Plot feature importances\n",
    "plt.figure(figsize=(10, 6))\n",
    "plt.barh(df_importances['Feature'], df_importances['Importance'], color='skyblue')\n",
    "plt.xlabel('Importance')\n",
    "plt.ylabel('Feature')\n",
    "plt.title('Feature Importance')\n",
    "plt.gca().invert_yaxis()  # Invert y-axis to have the most important feature at the top\n",
    "plt.show()\n",
    "\n",
    "print(df_importances)"
   ]
  },
  {
   "metadata": {},
   "cell_type": "markdown",
   "source": " Prediction Function",
   "id": "6f8f17453ddd74e7"
  },
  {
   "cell_type": "code",
   "execution_count": 36,
   "id": "56d83ae9",
   "metadata": {},
   "outputs": [],
   "source": [
    "def predict_medal(sport, gender, country, year=2024):\n",
    "\n",
    "    encoded_sport = label_encoders['Sport'].transform([sport])[0]\n",
    "    encoded_gender = label_encoders['Sex'].transform([gender])[0]\n",
    "    encoded_country = label_encoders['NOC'].transform([country])[0]\n",
    "    #encoded_year = label_encoders['Year'].transform([year])[0]\n",
    "    \n",
    "\n",
    "    input_data = pd.DataFrame([[encoded_sport, encoded_country, encoded_gender, year]], \n",
    "                              columns=['Sport', 'NOC', 'Sex', 'Year'])\n",
    "    \n",
    "    predicted_medal = model.predict(input_data)[0]\n",
    "    \n",
    "    medal_reverse_mapping = {v: k for k, v in medal_mapping.items()}\n",
    "    medal = medal_reverse_mapping[predicted_medal]\n",
    "    \n",
    "    if medal == \"\":\n",
    "        return \"No Medal\"\n",
    "    else:\n",
    "        return medal"
   ]
  },
  {
   "metadata": {},
   "cell_type": "markdown",
   "source": "# User input prediction",
   "id": "6ef2f5cb1c98ebdb"
  },
  {
   "cell_type": "code",
   "execution_count": 40,
   "id": "85e99811",
   "metadata": {},
   "outputs": [
    {
     "name": "stdout",
     "output_type": "stream",
     "text": [
      "Enter the sport: Basketball\n",
      "Enter the gender (M/F): M\n",
      "Enter the country code: USA\n",
      "The predicted medal for USA in Basketball (M) in 2024 is: Gold\n"
     ]
    }
   ],
   "source": [
    "def get_user_input_and_predict():\n",
    "    sport = input(\"Enter the sport: \")\n",
    "    gender = input(\"Enter the gender (M/F): \")\n",
    "    country = input(\"Enter the country code: \")\n",
    "    \n",
    "    predicted_medal = predict_medal(sport, gender, country)\n",
    "    print(f\"The predicted medal for {country} in {sport} ({gender}) in 2024 is: {predicted_medal}\")\n",
    "\n",
    "get_user_input_and_predict()"
   ]
  }
 ],
 "metadata": {
  "kernelspec": {
   "display_name": "Python 3 (ipykernel)",
   "language": "python",
   "name": "python3"
  },
  "language_info": {
   "codemirror_mode": {
    "name": "ipython",
    "version": 3
   },
   "file_extension": ".py",
   "mimetype": "text/x-python",
   "name": "python",
   "nbconvert_exporter": "python",
   "pygments_lexer": "ipython3",
   "version": "3.9.13"
  }
 },
 "nbformat": 4,
 "nbformat_minor": 5
}
