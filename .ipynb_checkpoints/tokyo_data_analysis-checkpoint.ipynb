{
 "cells": [
  {
   "cell_type": "code",
   "execution_count": 2,
   "id": "initial_id",
   "metadata": {
    "ExecuteTime": {
     "end_time": "2024-07-11T18:23:11.980639Z",
     "start_time": "2024-07-11T18:23:11.671523Z"
    },
    "collapsed": true
   },
   "outputs": [],
   "source": [
    "import numpy as np\n",
    "import pandas as pd"
   ]
  },
  {
   "cell_type": "markdown",
   "id": "60831e22ceb24961",
   "metadata": {},
   "source": [
    "# Medal Break down per country"
   ]
  },
  {
   "cell_type": "code",
   "execution_count": 98,
   "id": "8a1aeb25f7730d24",
   "metadata": {
    "ExecuteTime": {
     "end_time": "2024-07-11T21:30:33.157286Z",
     "start_time": "2024-07-11T21:30:32.752669Z"
    }
   },
   "outputs": [
    {
     "data": {
      "text/html": [
       "<div>\n",
       "<style scoped>\n",
       "    .dataframe tbody tr th:only-of-type {\n",
       "        vertical-align: middle;\n",
       "    }\n",
       "\n",
       "    .dataframe tbody tr th {\n",
       "        vertical-align: top;\n",
       "    }\n",
       "\n",
       "    .dataframe thead th {\n",
       "        text-align: right;\n",
       "    }\n",
       "</style>\n",
       "<table border=\"1\" class=\"dataframe\">\n",
       "  <thead>\n",
       "    <tr style=\"text-align: right;\">\n",
       "      <th></th>\n",
       "      <th>medal</th>\n",
       "      <th>BRONZE</th>\n",
       "      <th>GOLD</th>\n",
       "      <th>SILVER</th>\n",
       "      <th>TOTAL</th>\n",
       "    </tr>\n",
       "    <tr>\n",
       "      <th>country_name</th>\n",
       "      <th>sport</th>\n",
       "      <th></th>\n",
       "      <th></th>\n",
       "      <th></th>\n",
       "      <th></th>\n",
       "    </tr>\n",
       "  </thead>\n",
       "  <tbody>\n",
       "    <tr>\n",
       "      <th rowspan=\"2\" valign=\"top\">Afghanistan</th>\n",
       "      <th>Shooting</th>\n",
       "      <td>0</td>\n",
       "      <td>0</td>\n",
       "      <td>0</td>\n",
       "      <td>0</td>\n",
       "    </tr>\n",
       "    <tr>\n",
       "      <th>Taekwondo</th>\n",
       "      <td>0</td>\n",
       "      <td>0</td>\n",
       "      <td>0</td>\n",
       "      <td>0</td>\n",
       "    </tr>\n",
       "    <tr>\n",
       "      <th rowspan=\"3\" valign=\"top\">Albania</th>\n",
       "      <th>Athletics</th>\n",
       "      <td>0</td>\n",
       "      <td>0</td>\n",
       "      <td>0</td>\n",
       "      <td>0</td>\n",
       "    </tr>\n",
       "    <tr>\n",
       "      <th>Judo</th>\n",
       "      <td>0</td>\n",
       "      <td>0</td>\n",
       "      <td>0</td>\n",
       "      <td>0</td>\n",
       "    </tr>\n",
       "    <tr>\n",
       "      <th>Shooting</th>\n",
       "      <td>0</td>\n",
       "      <td>0</td>\n",
       "      <td>0</td>\n",
       "      <td>0</td>\n",
       "    </tr>\n",
       "    <tr>\n",
       "      <th>...</th>\n",
       "      <th>...</th>\n",
       "      <td>...</td>\n",
       "      <td>...</td>\n",
       "      <td>...</td>\n",
       "      <td>...</td>\n",
       "    </tr>\n",
       "    <tr>\n",
       "      <th>Yemen</th>\n",
       "      <th>Shooting</th>\n",
       "      <td>0</td>\n",
       "      <td>0</td>\n",
       "      <td>0</td>\n",
       "      <td>0</td>\n",
       "    </tr>\n",
       "    <tr>\n",
       "      <th rowspan=\"2\" valign=\"top\">Zambia</th>\n",
       "      <th>Boxing</th>\n",
       "      <td>0</td>\n",
       "      <td>0</td>\n",
       "      <td>0</td>\n",
       "      <td>0</td>\n",
       "    </tr>\n",
       "    <tr>\n",
       "      <th>Judo</th>\n",
       "      <td>0</td>\n",
       "      <td>0</td>\n",
       "      <td>0</td>\n",
       "      <td>0</td>\n",
       "    </tr>\n",
       "    <tr>\n",
       "      <th rowspan=\"2\" valign=\"top\">Zimbabwe</th>\n",
       "      <th>Golf</th>\n",
       "      <td>0</td>\n",
       "      <td>0</td>\n",
       "      <td>0</td>\n",
       "      <td>0</td>\n",
       "    </tr>\n",
       "    <tr>\n",
       "      <th>Rowing</th>\n",
       "      <td>0</td>\n",
       "      <td>0</td>\n",
       "      <td>0</td>\n",
       "      <td>0</td>\n",
       "    </tr>\n",
       "  </tbody>\n",
       "</table>\n",
       "<p>1613 rows × 4 columns</p>\n",
       "</div>"
      ],
      "text/plain": [
       "medal                   BRONZE  GOLD  SILVER  TOTAL\n",
       "country_name sport                                 \n",
       "Afghanistan  Shooting        0     0       0      0\n",
       "             Taekwondo       0     0       0      0\n",
       "Albania      Athletics       0     0       0      0\n",
       "             Judo            0     0       0      0\n",
       "             Shooting        0     0       0      0\n",
       "...                        ...   ...     ...    ...\n",
       "Yemen        Shooting        0     0       0      0\n",
       "Zambia       Boxing          0     0       0      0\n",
       "             Judo            0     0       0      0\n",
       "Zimbabwe     Golf            0     0       0      0\n",
       "             Rowing          0     0       0      0\n",
       "\n",
       "[1613 rows x 4 columns]"
      ]
     },
     "execution_count": 98,
     "metadata": {},
     "output_type": "execute_result"
    }
   ],
   "source": [
    "athletes = pd.read_excel(\"tokyo_datasets/athlete_tokyo.xlsx\")\n",
    "athletes['medal'] = athletes['medal'].fillna(\"NONE\")\n",
    "athletes['medal_1'] = athletes[\"medal\"]\n",
    "table_1 = pd.pivot_table(athletes, values='medal_1', index=['country_name','sport'], columns=\"medal\", aggfunc='count')\n",
    "table_1.drop(\"NONE\", axis=1, inplace=True)\n",
    "table_1.fillna(0, inplace=True)\n",
    "table_1[\"BRONZE\"] = table_1['BRONZE'].astype(int)\n",
    "table_1[\"GOLD\"] = table_1[\"GOLD\"].astype(int)\n",
    "table_1[\"SILVER\"] = table_1[\"SILVER\"].astype(int)\n",
    "table_1[\"TOTAL\"] = table_1[\"BRONZE\"]+table_1[\"GOLD\"]+table_1[\"SILVER\"]\n",
    "table_1"
   ]
  },
  {
   "cell_type": "code",
   "execution_count": 99,
   "id": "bb99d4ffc2105b4f",
   "metadata": {
    "ExecuteTime": {
     "end_time": "2024-07-11T21:30:49.847415Z",
     "start_time": "2024-07-11T21:30:49.841309Z"
    }
   },
   "outputs": [],
   "source": [
    "table_1.to_csv(\"tokyo_datasets/athlete_tokyo_table_sport.csv\")"
   ]
  },
  {
   "cell_type": "markdown",
   "id": "4c6309f456f8d0a6",
   "metadata": {},
   "source": [
    "# Total Medals Per Country"
   ]
  },
  {
   "cell_type": "code",
   "execution_count": null,
   "id": "5ea9da83e5c3790",
   "metadata": {},
   "outputs": [],
   "source": [
    "athletes = pd.read_excel(\"tokyo_datasets/athlete_tokyo.xlsx\")\n",
    "athletes[\"medal\"] = athletes[\"medal\"].replace(\"GOLD\", 1)\n",
    "athletes[\"medal\"] = athletes[\"medal\"].replace(\"SILVER\", 2)\n",
    "athletes[\"medal\"] = athletes[\"medal\"].replace(\"BRONZE\", 3)\n",
    "table = pd.pivot_table(athletes, values='medal', index=['sport','event'], columns='country_name')\n",
    "table"
   ]
  },
  {
   "cell_type": "code",
   "execution_count": 87,
   "id": "93fad2e32990415",
   "metadata": {
    "ExecuteTime": {
     "end_time": "2024-07-11T20:14:53.750Z",
     "start_time": "2024-07-11T20:14:53.741175Z"
    }
   },
   "outputs": [],
   "source": [
    "table.to_csv(\"tokyo_datasets/athlete_tokyo_table.csv\")"
   ]
  },
  {
   "cell_type": "code",
   "execution_count": 85,
   "id": "5c83d12112a666fd",
   "metadata": {
    "ExecuteTime": {
     "end_time": "2024-07-11T20:11:38.192527Z",
     "start_time": "2024-07-11T20:11:38.187887Z"
    }
   },
   "outputs": [
    {
     "data": {
      "text/plain": [
       "country_name\n",
       "Armenia                      4\n",
       "Australia                   25\n",
       "Austria                      7\n",
       "Azerbaijan                   7\n",
       "Bahamas                      2\n",
       "                            ..\n",
       "Uganda                       3\n",
       "Ukraine                     15\n",
       "United States of America    74\n",
       "Uzbekistan                   5\n",
       "Venezuela                    4\n",
       "Length: 90, dtype: int64"
      ]
     },
     "execution_count": 85,
     "metadata": {},
     "output_type": "execute_result"
    }
   ],
   "source": [
    "table.count()"
   ]
  },
  {
   "cell_type": "markdown",
   "id": "9c6859dad4396e59",
   "metadata": {},
   "source": [
    "# Divide Dateset Based on Gender"
   ]
  },
  {
   "cell_type": "code",
   "execution_count": 123,
   "id": "c3d82ae542be2d8b",
   "metadata": {
    "ExecuteTime": {
     "end_time": "2024-07-11T22:27:54.724003Z",
     "start_time": "2024-07-11T22:27:54.472765Z"
    }
   },
   "outputs": [
    {
     "data": {
      "text/html": [
       "<div>\n",
       "<style scoped>\n",
       "    .dataframe tbody tr th:only-of-type {\n",
       "        vertical-align: middle;\n",
       "    }\n",
       "\n",
       "    .dataframe tbody tr th {\n",
       "        vertical-align: top;\n",
       "    }\n",
       "\n",
       "    .dataframe thead th {\n",
       "        text-align: right;\n",
       "    }\n",
       "</style>\n",
       "<table border=\"1\" class=\"dataframe\">\n",
       "  <thead>\n",
       "    <tr style=\"text-align: right;\">\n",
       "      <th></th>\n",
       "      <th>sport</th>\n",
       "      <th>event</th>\n",
       "      <th>medal</th>\n",
       "      <th>rank</th>\n",
       "      <th>country_name</th>\n",
       "      <th>country_code</th>\n",
       "      <th>athlete_full_name</th>\n",
       "      <th>gender</th>\n",
       "    </tr>\n",
       "  </thead>\n",
       "  <tbody>\n",
       "    <tr>\n",
       "      <th>0</th>\n",
       "      <td>Shooting</td>\n",
       "      <td>50m Rifle 3 Positions women</td>\n",
       "      <td>NaN</td>\n",
       "      <td>19</td>\n",
       "      <td>People's Republic of China</td>\n",
       "      <td>CHN</td>\n",
       "      <td>Dongqi CHEN</td>\n",
       "      <td>woman</td>\n",
       "    </tr>\n",
       "    <tr>\n",
       "      <th>1</th>\n",
       "      <td>Shooting</td>\n",
       "      <td>50m Rifle 3 Positions women</td>\n",
       "      <td>NaN</td>\n",
       "      <td>5</td>\n",
       "      <td>United States of America</td>\n",
       "      <td>USA</td>\n",
       "      <td>Sagen MADDALENA</td>\n",
       "      <td>woman</td>\n",
       "    </tr>\n",
       "    <tr>\n",
       "      <th>2</th>\n",
       "      <td>Shooting</td>\n",
       "      <td>50m Rifle 3 Positions women</td>\n",
       "      <td>NaN</td>\n",
       "      <td>17</td>\n",
       "      <td>Belarus</td>\n",
       "      <td>BLR</td>\n",
       "      <td>Maria MARTYNOVA</td>\n",
       "      <td>woman</td>\n",
       "    </tr>\n",
       "    <tr>\n",
       "      <th>3</th>\n",
       "      <td>Shooting</td>\n",
       "      <td>50m Rifle 3 Positions women</td>\n",
       "      <td>BRONZE</td>\n",
       "      <td>3</td>\n",
       "      <td>ROC</td>\n",
       "      <td>ROC</td>\n",
       "      <td>Yulia KARIMOVA</td>\n",
       "      <td>woman</td>\n",
       "    </tr>\n",
       "    <tr>\n",
       "      <th>4</th>\n",
       "      <td>Shooting</td>\n",
       "      <td>50m Rifle 3 Positions women</td>\n",
       "      <td>NaN</td>\n",
       "      <td>18</td>\n",
       "      <td>Islamic Republic of Iran</td>\n",
       "      <td>IRI</td>\n",
       "      <td>Najmeh KHEDMATI</td>\n",
       "      <td>woman</td>\n",
       "    </tr>\n",
       "    <tr>\n",
       "      <th>...</th>\n",
       "      <td>...</td>\n",
       "      <td>...</td>\n",
       "      <td>...</td>\n",
       "      <td>...</td>\n",
       "      <td>...</td>\n",
       "      <td>...</td>\n",
       "      <td>...</td>\n",
       "      <td>...</td>\n",
       "    </tr>\n",
       "    <tr>\n",
       "      <th>5622</th>\n",
       "      <td>Rhythmic Gymnastics</td>\n",
       "      <td>Individual All-Around</td>\n",
       "      <td>NaN</td>\n",
       "      <td>9</td>\n",
       "      <td>Ukraine</td>\n",
       "      <td>UKR</td>\n",
       "      <td>Khrystyna POHRANYCHNA</td>\n",
       "      <td>man</td>\n",
       "    </tr>\n",
       "    <tr>\n",
       "      <th>5623</th>\n",
       "      <td>Rhythmic Gymnastics</td>\n",
       "      <td>Individual All-Around</td>\n",
       "      <td>NaN</td>\n",
       "      <td>4</td>\n",
       "      <td>ROC</td>\n",
       "      <td>ROC</td>\n",
       "      <td>Arina AVERINA</td>\n",
       "      <td>man</td>\n",
       "    </tr>\n",
       "    <tr>\n",
       "      <th>5624</th>\n",
       "      <td>Rhythmic Gymnastics</td>\n",
       "      <td>Individual All-Around</td>\n",
       "      <td>NaN</td>\n",
       "      <td>7</td>\n",
       "      <td>Israel</td>\n",
       "      <td>ISR</td>\n",
       "      <td>Nicol ZELIKMAN</td>\n",
       "      <td>man</td>\n",
       "    </tr>\n",
       "    <tr>\n",
       "      <th>5625</th>\n",
       "      <td>Rhythmic Gymnastics</td>\n",
       "      <td>Individual All-Around</td>\n",
       "      <td>NaN</td>\n",
       "      <td>8</td>\n",
       "      <td>Belarus</td>\n",
       "      <td>BLR</td>\n",
       "      <td>Anastasiia SALOS</td>\n",
       "      <td>man</td>\n",
       "    </tr>\n",
       "    <tr>\n",
       "      <th>5626</th>\n",
       "      <td>Rhythmic Gymnastics</td>\n",
       "      <td>Individual All-Around</td>\n",
       "      <td>NaN</td>\n",
       "      <td>6</td>\n",
       "      <td>Italy</td>\n",
       "      <td>ITA</td>\n",
       "      <td>Milena BALDASSARRI</td>\n",
       "      <td>man</td>\n",
       "    </tr>\n",
       "  </tbody>\n",
       "</table>\n",
       "<p>5627 rows × 8 columns</p>\n",
       "</div>"
      ],
      "text/plain": [
       "                    sport                        event   medal rank  \\\n",
       "0                Shooting  50m Rifle 3 Positions women     NaN   19   \n",
       "1                Shooting  50m Rifle 3 Positions women     NaN    5   \n",
       "2                Shooting  50m Rifle 3 Positions women     NaN   17   \n",
       "3                Shooting  50m Rifle 3 Positions women  BRONZE    3   \n",
       "4                Shooting  50m Rifle 3 Positions women     NaN   18   \n",
       "...                   ...                          ...     ...  ...   \n",
       "5622  Rhythmic Gymnastics        Individual All-Around     NaN    9   \n",
       "5623  Rhythmic Gymnastics        Individual All-Around     NaN    4   \n",
       "5624  Rhythmic Gymnastics        Individual All-Around     NaN    7   \n",
       "5625  Rhythmic Gymnastics        Individual All-Around     NaN    8   \n",
       "5626  Rhythmic Gymnastics        Individual All-Around     NaN    6   \n",
       "\n",
       "                    country_name country_code      athlete_full_name gender  \n",
       "0     People's Republic of China          CHN            Dongqi CHEN  woman  \n",
       "1       United States of America          USA        Sagen MADDALENA  woman  \n",
       "2                        Belarus          BLR        Maria MARTYNOVA  woman  \n",
       "3                            ROC          ROC         Yulia KARIMOVA  woman  \n",
       "4       Islamic Republic of Iran          IRI        Najmeh KHEDMATI  woman  \n",
       "...                          ...          ...                    ...    ...  \n",
       "5622                     Ukraine          UKR  Khrystyna POHRANYCHNA    man  \n",
       "5623                         ROC          ROC          Arina AVERINA    man  \n",
       "5624                      Israel          ISR         Nicol ZELIKMAN    man  \n",
       "5625                     Belarus          BLR       Anastasiia SALOS    man  \n",
       "5626                       Italy          ITA     Milena BALDASSARRI    man  \n",
       "\n",
       "[5627 rows x 8 columns]"
      ]
     },
     "execution_count": 123,
     "metadata": {},
     "output_type": "execute_result"
    }
   ],
   "source": [
    "athletes = pd.read_excel(\"tokyo_datasets/athlete_tokyo.xlsx\")\n",
    "athletes['gender'] = athletes['event'].apply(lambda x: 'woman' if 'women' in x.lower() else 'man')\n",
    "athletes"
   ]
  },
  {
   "cell_type": "code",
   "execution_count": 105,
   "id": "85517cd3b555770",
   "metadata": {
    "ExecuteTime": {
     "end_time": "2024-07-11T22:10:46.507075Z",
     "start_time": "2024-07-11T22:10:46.498845Z"
    }
   },
   "outputs": [],
   "source": [
    "# Filter rows where the string contains 'man' as a whole word\n",
    "df_man = athletes[athletes['event'].str.contains(r'\\bMen\\b', regex=True)]\n",
    "\n",
    "# Filter rows where the string contains 'woman' as a whole word\n",
    "df_woman = athletes[athletes['event'].str.contains(r'\\bWomen\\b', regex=True)]"
   ]
  },
  {
   "cell_type": "code",
   "execution_count": 111,
   "id": "2a57a34bf929e195",
   "metadata": {
    "ExecuteTime": {
     "end_time": "2024-07-11T22:13:28.084872Z",
     "start_time": "2024-07-11T22:13:28.076717Z"
    }
   },
   "outputs": [],
   "source": [
    "df_woman.to_csv(\"tokyo_datasets/athlete_tokyo_women.csv\", index=False)"
   ]
  },
  {
   "cell_type": "code",
   "execution_count": 121,
   "id": "4ea0055bf8d81e70",
   "metadata": {
    "ExecuteTime": {
     "end_time": "2024-07-11T22:26:27.212056Z",
     "start_time": "2024-07-11T22:26:27.205978Z"
    }
   },
   "outputs": [],
   "source": [
    "gender_counts = athletes.groupby(['sport', 'gender']).size().unstack(fill_value=0)\n",
    "gender_ratio = gender_counts.div(gender_counts.sum(axis=1), axis=0)\n",
    "gender_ratio.to_csv(\"tokyo_datasets/athlete_tokyo_gender_ratio.csv\")\n",
    "gender_counts.to_csv(\"tokyo_datasets/athlete_tokyo_gender_counts.csv\")"
   ]
  },
  {
   "cell_type": "markdown",
   "id": "4db43f1232d6b5aa",
   "metadata": {},
   "source": [
    "# Top 15 athletes"
   ]
  },
  {
   "cell_type": "code",
   "execution_count": null,
   "id": "35a35a3dfcafdb15",
   "metadata": {},
   "outputs": [],
   "source": [
    "athletes = pd.read_excel(\"tokyo_datasets/athlete_tokyo.xlsx\")\n",
    "athletes['gender'] = athletes['event'].apply(lambda x: 'woman' if 'women' in x.lower() else 'man')\n",
    "top_athletes_per_sport = athletes.sort_values(by=['sport', 'rank']).groupby('sport').head(15)\n",
    "top_athletes_per_sport.to_csv(\"tokyo_datasets/athlete_tokyo_top_15.csv\")"
   ]
  }
 ],
 "metadata": {
  "kernelspec": {
   "display_name": "Python 3 (ipykernel)",
   "language": "python",
   "name": "python3"
  },
  "language_info": {
   "codemirror_mode": {
    "name": "ipython",
    "version": 3
   },
   "file_extension": ".py",
   "mimetype": "text/x-python",
   "name": "python",
   "nbconvert_exporter": "python",
   "pygments_lexer": "ipython3",
   "version": "3.9.13"
  }
 },
 "nbformat": 4,
 "nbformat_minor": 5
}
